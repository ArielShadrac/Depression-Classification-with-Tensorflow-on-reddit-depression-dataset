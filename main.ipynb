{
 "cells": [
  {
   "cell_type": "code",
   "execution_count": 96,
   "metadata": {},
   "outputs": [],
   "source": [
    "import pandas as pd\n",
    "import numpy as np\n",
    "from sklearn.model_selection import train_test_split\n",
    "from sklearn.metrics import f1_score, classification_report\n",
    "import tensorflow\n",
    "import tensorflow_hub as hub\n",
    "import matplotlib.pyplot as plt\n",
    "from tensorflow.keras.models import Sequential\n",
    "from tensorflow.keras.layers import Dense, Dropout, Input"
   ]
  },
  {
   "cell_type": "code",
   "execution_count": 97,
   "metadata": {},
   "outputs": [],
   "source": [
    "# filepath = 'datasets/depression_dataset_reddit_cleaned.csv'\n",
    "def load_data(filepath):\n",
    "    df = pd.read_csv(filepath)\n",
    "    texts = df['clean_text'].dropna().values\n",
    "    labels = df['is_depression'].values\n",
    "    print(df.shape)\n",
    "    print(texts.shape)\n",
    "    return texts, labels"
   ]
  },
  {
   "cell_type": "code",
   "execution_count": 98,
   "metadata": {},
   "outputs": [],
   "source": [
    "def text_processing(texts, max_length=128):\n",
    "    \"\"\"Preprocess the text data using BERT preprocessing and encoding.\"\"\"\n",
    "    bert_processor = hub.KerasLayer(\"https://tfhub.dev/tensorflow/bert_en_uncased_preprocess/3\")\n",
    "    bert_encoder = hub.KerasLayer(\"https://tfhub.dev/tensorflow/bert_en_uncased_L-12_H-768_A-12/4\")\n",
    "    \n",
    "    batch_size = 32\n",
    "    encoded_texts = []\n",
    "\n",
    "    for i in range(0, len(texts), batch_size):\n",
    "        batch_texts = texts[i:i + batch_size]\n",
    "        preprocessed = bert_processor(batch_texts)\n",
    "        encoded = bert_encoder(preprocessed)['pooled_output']\n",
    "        encoded_texts.append(encoded.numpy())\n",
    "\n",
    "    return np.vstack(encoded_texts)"
   ]
  },
  {
   "cell_type": "code",
   "execution_count": 99,
   "metadata": {},
   "outputs": [],
   "source": [
    "def build_model(input_shape):\n",
    "\n",
    "    model = Sequential([\n",
    "        Input(shape=input_shape),\n",
    "        Dense(256, activation='relu', kernel_regularizer=tensorflow.keras.regularizers.l2(0.01)),\n",
    "        Dropout(0.4),\n",
    "        Dense(128, activation='relu', kernel_regularizer=tensorflow.keras.regularizers.l2(0.01)),\n",
    "        Dropout(0.4),\n",
    "        Dense(1, activation='sigmoid'),\n",
    "    ])\n",
    "\n",
    "    return model"
   ]
  },
  {
   "cell_type": "code",
   "execution_count": 100,
   "metadata": {},
   "outputs": [],
   "source": [
    "def plot_training_history(history):\n",
    "\n",
    "    fig, (ax1, ax2) = plt.subplots(1, 2, figsize=(12, 4))\n",
    "    \n",
    "    # Loss\n",
    "    ax1.plot(history.history['loss'], label='Train Loss')\n",
    "    ax1.plot(history.history['val_loss'], label='Val Loss')\n",
    "    ax1.set_title('Loss over Epochs')\n",
    "    ax1.set_xlabel('Epoch')\n",
    "    ax1.set_ylabel('Loss')\n",
    "    ax1.legend()\n",
    "    \n",
    "    # Accuracy\n",
    "    ax2.plot(history.history['accuracy'], label='Train Accuracy')\n",
    "    ax2.plot(history.history['val_accuracy'], label='Val Accuracy')\n",
    "    ax2.set_title('Accuracy over Epochs')\n",
    "    ax2.set_xlabel('Epoch')\n",
    "    ax2.set_ylabel('Accuracy')\n",
    "    ax2.legend()\n",
    "    \n",
    "    plt.show()"
   ]
  },
  {
   "cell_type": "code",
   "execution_count": 101,
   "metadata": {},
   "outputs": [],
   "source": [
    "def main(data_path):\n",
    "\n",
    "    texts, labels = load_data(data_path)\n",
    "    \n",
    "    X = text_processing(texts)\n",
    "    y = np.array(labels)\n",
    "    \n",
    "    if len(np.unique(y)) == 2:\n",
    "        print(\"Classes équilibrées:\", np.bincount(y))\n",
    "    \n",
    "    X_train, X_test, y_train, y_test = train_test_split(\n",
    "        X, y, test_size=0.2, random_state=42, stratify=y\n",
    "    )\n",
    "    \n",
    "    model = build_model(input_shape=(X.shape[1],))\n",
    "    \n",
    "    model.compile(\n",
    "        optimizer=tensorflow.keras.optimizers.Adam(learning_rate=1e-4),\n",
    "        loss='binary_crossentropy',\n",
    "        metrics=['accuracy']\n",
    "    )\n",
    "    \n",
    "    history = model.fit(\n",
    "        X_train, y_train,\n",
    "        validation_data=(X_test, y_test),\n",
    "        epochs=15,\n",
    "        batch_size=32,\n",
    "        callbacks=[\n",
    "            tensorflow.keras.callbacks.EarlyStopping(patience=5, restore_best_weights=True),\n",
    "            tensorflow.keras.callbacks.ModelCheckpoint('depression_model.h5', save_best_only=True)\n",
    "        ]\n",
    "    )\n",
    "    \n",
    "    # Évaluation\n",
    "    y_pred = (model.predict(X_test) > 0.5).astype(int)\n",
    "    print(\"\\nRapport de classification :\")\n",
    "    print(classification_report(y_test, y_pred, target_names=['Non-dépression', 'Dépression']))\n",
    "    f1 = f1_score(y_test, y_pred)\n",
    "    print(f\"F1-Score : {f1:.4f}\")\n",
    "    \n",
    "    plot_training_history(history) \n",
    "    \n",
    "    return model, history"
   ]
  },
  {
   "cell_type": "code",
   "execution_count": null,
   "metadata": {},
   "outputs": [],
   "source": [
    "if __name__ == \"__main__\":\n",
    "    data_path = \"datasets/depression_dataset_reddit_cleaned.csv\"\n",
    "    model, history = main(data_path)"
   ]
  }
 ],
 "metadata": {
  "kernelspec": {
   "display_name": "Python 3",
   "language": "python",
   "name": "python3"
  },
  "language_info": {
   "codemirror_mode": {
    "name": "ipython",
    "version": 3
   },
   "file_extension": ".py",
   "mimetype": "text/x-python",
   "name": "python",
   "nbconvert_exporter": "python",
   "pygments_lexer": "ipython3",
   "version": "3.10.11"
  }
 },
 "nbformat": 4,
 "nbformat_minor": 2
}
